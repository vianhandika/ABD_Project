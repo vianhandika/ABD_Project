{
 "cells": [
  {
   "cell_type": "code",
   "execution_count": null,
   "id": "074bbd9d-09fb-4d31-84f7-b439cbd0ce5b",
   "metadata": {},
   "outputs": [],
   "source": [
    "!git clone https://github.com/vianhandika/ABD_Project.git\n",
    "!pip install fhirclient"
   ]
  },
  {
   "cell_type": "code",
   "execution_count": 81,
   "id": "8f02cbe7-db1f-4687-bcba-7699e56ad63f",
   "metadata": {},
   "outputs": [],
   "source": [
    "import fhirclient.models as m\n",
    "import fhirclient.models.patient as p\n",
    "import fhirclient.models.humanname as hn\n",
    "import pandas as pd\n",
    "import json\n",
    "import numpy as np\n",
    "\n"
   ]
  },
  {
   "cell_type": "code",
   "execution_count": 121,
   "id": "e22fc96c-141e-4309-bf09-3ae78b33e329",
   "metadata": {},
   "outputs": [
    {
     "name": "stdout",
     "output_type": "stream",
     "text": [
      "<class 'pandas.core.frame.DataFrame'>\n",
      "RangeIndex: 1171 entries, 0 to 1170\n",
      "Data columns (total 25 columns):\n",
      " #   Column               Non-Null Count  Dtype  \n",
      "---  ------               --------------  -----  \n",
      " 0   Id                   1171 non-null   object \n",
      " 1   BIRTHDATE            1171 non-null   object \n",
      " 2   DEATHDATE            171 non-null    object \n",
      " 3   SSN                  1171 non-null   object \n",
      " 4   DRIVERS              958 non-null    object \n",
      " 5   PASSPORT             898 non-null    object \n",
      " 6   PREFIX               927 non-null    object \n",
      " 7   FIRST                1171 non-null   object \n",
      " 8   LAST                 1171 non-null   object \n",
      " 9   SUFFIX               12 non-null     object \n",
      " 10  MAIDEN               331 non-null    object \n",
      " 11  MARITAL              791 non-null    object \n",
      " 12  RACE                 1171 non-null   object \n",
      " 13  ETHNICITY            1171 non-null   object \n",
      " 14  GENDER               1171 non-null   object \n",
      " 15  BIRTHPLACE           1171 non-null   object \n",
      " 16  ADDRESS              1171 non-null   object \n",
      " 17  CITY                 1171 non-null   object \n",
      " 18  STATE                1171 non-null   object \n",
      " 19  COUNTY               1171 non-null   object \n",
      " 20  ZIP                  628 non-null    float64\n",
      " 21  LAT                  1171 non-null   float64\n",
      " 22  LON                  1171 non-null   float64\n",
      " 23  HEALTHCARE_EXPENSES  1171 non-null   float64\n",
      " 24  HEALTHCARE_COVERAGE  1171 non-null   float64\n",
      "dtypes: float64(5), object(20)\n",
      "memory usage: 228.8+ KB\n"
     ]
    }
   ],
   "source": [
    "data_patient = pd.read_csv('Dataset/patients.csv')\n",
    "data_patient.info()\n",
    "\n",
    "\n"
   ]
  },
  {
   "cell_type": "code",
   "execution_count": 131,
   "id": "7498a54b-bca1-48fb-bc61-888c6a9d9ee8",
   "metadata": {
    "tags": []
   },
   "outputs": [
    {
     "data": {
      "text/plain": [
       "[{'id': '1d604da9-9a81-4ba9-80c2-de3375d59b40',\n",
       "  'address': [{'city': 'Chicopee',\n",
       "    'country': 'Hampden County',\n",
       "    'postalCode': '1013.0',\n",
       "    'state': 'Massachusetts',\n",
       "    'text': '427 Balistreri Way Unit 19'}],\n",
       "  'birthDate': '1989-05-25',\n",
       "  'deceasedBoolean': False,\n",
       "  'gender': 'M',\n",
       "  'name': [{'family': 'Gómez206',\n",
       "    'given': ['José Eduardo181'],\n",
       "    'prefix': ['Mr.'],\n",
       "    'suffix': ['nan'],\n",
       "    'text': 'José Eduardo181 Gómez206',\n",
       "    'use': 'nan'}],\n",
       "  'resourceType': 'Patient'}]"
      ]
     },
     "execution_count": 131,
     "metadata": {},
     "output_type": "execute_result"
    }
   ],
   "source": [
    "patient_json = []\n",
    "for index, row in data_patient.iterrows():\n",
    "    #name\n",
    "    p_name = m.humanname.HumanName({\n",
    "        'use': str(row['MAIDEN']),\n",
    "        'text' : str(row['FIRST'])+' '+str(row['LAST']),\n",
    "        'family': str(row['LAST']),\n",
    "        'given': [str(row['FIRST'])],\n",
    "        'prefix':[str(row['PREFIX'])],\n",
    "        'suffix':[str(row['SUFFIX'])]\n",
    "\n",
    "    })\n",
    "    #address\n",
    "    p_address = m.address.Address({\n",
    "        'text' : row['ADDRESS'],\n",
    "        'city' : row['CITY'],\n",
    "        'country' : row['COUNTY'],\n",
    "        'state' : row['STATE'],\n",
    "        'postalCode' : str(row['ZIP']),\n",
    "\n",
    "    })\n",
    "    \n",
    "    #patient object\n",
    "    patient = p.Patient({\n",
    "        'id': row['Id'],\n",
    "        'gender': row['GENDER'],\n",
    "        'birthDate' : row['BIRTHDATE'],\n",
    "        'deceasedBoolean' : False if pd.isna(row['DEATHDATE']) else True,\n",
    "\n",
    "    })\n",
    "    if pd.notna(row['DEATHDATE']):\n",
    "        patient.deceasedDateTime = m.fhirdate.FHIRDate(row['DEATHDATE'])\n",
    "    patient.address=[p_address]\n",
    "    patient.name=[p_name]\n",
    "    \n",
    "    patient.as_json()\n",
    "    patient_json.append(patient.as_json())\n",
    "    with open(\"Patient FHIR JSON/\"+str(row['Id'])+\"data.json\", 'w', encoding='utf-8') as f:\n",
    "        json.dump(patient.as_json(), f, ensure_ascii=False, indent=4)\n",
    "patient_json[:1]"
   ]
  }
 ],
 "metadata": {
  "kernelspec": {
   "display_name": "Python 3 (ipykernel)",
   "language": "python",
   "name": "python3"
  },
  "language_info": {
   "codemirror_mode": {
    "name": "ipython",
    "version": 3
   },
   "file_extension": ".py",
   "mimetype": "text/x-python",
   "name": "python",
   "nbconvert_exporter": "python",
   "pygments_lexer": "ipython3",
   "version": "3.10.1"
  }
 },
 "nbformat": 4,
 "nbformat_minor": 5
}
